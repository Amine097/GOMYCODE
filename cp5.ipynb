{
 "cells": [
  {
   "cell_type": "code",
   "execution_count": null,
   "id": "6ef331d9-f94e-4103-96b1-c76193506cff",
   "metadata": {},
   "outputs": [],
   "source": [
    "#Question 1"
   ]
  },
  {
   "cell_type": "code",
   "execution_count": null,
   "id": "94ba83f0-a5a5-4556-8a6b-5e381ce55a09",
   "metadata": {},
   "outputs": [],
   "source": [
    "class Point3D:\n",
    "    def __init__(self,x,y,z):\n",
    "        self.x=x\n",
    "        self.y=y\n",
    "        self.z=z\n",
    "    def prt(self):\n",
    "        return \"({},{},{})\".format(self.x,self.y,self.z)\n",
    "he = Point3D(1,2,3)\n",
    "print(he.prt())"
   ]
  },
  {
   "cell_type": "code",
   "execution_count": null,
   "id": "30576d31-681c-4cc4-a407-bd0855ecda72",
   "metadata": {},
   "outputs": [],
   "source": [
    "#Question 2"
   ]
  },
  {
   "cell_type": "code",
   "execution_count": null,
   "id": "1adc6ff5-b503-4a10-9c88-93ed2146f31f",
   "metadata": {},
   "outputs": [],
   "source": [
    "class Rectangle:\n",
    "    def __init__(self,l,w):\n",
    "        self.length=l\n",
    "        self.width=w\n",
    "    def area (self):\n",
    "        e=self.length*self.width\n",
    "        return e\n",
    "    def perimeter(self):\n",
    "        h= 2*(self.length+self.width)\n",
    "        return h\n",
    "    \n",
    "my_rectangle=Rectangle(4,3)\n",
    "print(\"The area of this rectangle is\", my_rectangle.area(),\".\",\"The perimeter of this rectangle is\", my_rectangle.perimeter())"
   ]
  },
  {
   "cell_type": "code",
   "execution_count": null,
   "id": "a72e2002-d5fc-4cc2-a36d-bbb78061502e",
   "metadata": {},
   "outputs": [],
   "source": [
    "#Question 3"
   ]
  },
  {
   "cell_type": "code",
   "execution_count": null,
   "id": "eac8d518-161d-4a4c-91a1-a127889a4cbb",
   "metadata": {},
   "outputs": [],
   "source": [
    "from math import pi\n",
    "from math import sqrt"
   ]
  },
  {
   "cell_type": "code",
   "execution_count": null,
   "id": "fc83676d-d25e-4f91-b20d-1ff307b2247a",
   "metadata": {},
   "outputs": [],
   "source": [
    "class Circle:\n",
    "    def __init__(self,O,r):\n",
    "        self.center=O\n",
    "        self.radius=r\n",
    "    \n",
    "    def area(self):\n",
    "        f= pi*self.radius**2\n",
    "        return f\n",
    "    def perimeter(self):\n",
    "        f=2*pi*self.radius\n",
    "        return f\n",
    "    def isInside(self,A):\n",
    "        f=(A[0]-self.center[0])**2\n",
    "        r=(A[1]-self.center[1])**2\n",
    "        e=sqrt(f+r)\n",
    "        if e <= self.radius:\n",
    "            s=True\n",
    "        else:\n",
    "            s=False\n",
    "        return s\n",
    "A=  tuple(map(int,input(\"input the x,y pf the point:\").split(',')))     \n",
    "x = tuple(map(int,input(\"input the x,y of the center:\").split(',')))\n",
    "e= int(input('input the radius:'))\n",
    "C=Circle(x,e)\n",
    "if C.isInside(A) == True:\n",
    "    print(\"The area of the cercle is\",C.area(),\".The perimeter of the cercle is\",C.perimeter(),\".The point A belongs to the Cercle\")\n",
    "if C.isInside(A) == False:\n",
    "    print(\"The area of the cercle is\",C.area(),\".The perimeter of the cercle is\",C.perimeter(),\".The point A doesn't belong to the Cercle\")            "
   ]
  },
  {
   "cell_type": "code",
   "execution_count": null,
   "id": "fb1bf0f3-b2c8-4148-b2cd-0d7ebc021232",
   "metadata": {},
   "outputs": [],
   "source": [
    "#Question 4"
   ]
  },
  {
   "cell_type": "code",
   "execution_count": 18,
   "id": "24ea9e4e-d7de-4078-95f3-e725506eeb11",
   "metadata": {},
   "outputs": [
    {
     "name": "stdin",
     "output_type": "stream",
     "text": [
      "input the amount of money you have on your account: 12000\n",
      "do you want to depose or to remove: remove\n",
      "Enter amount to be withdrawn:  8000\n"
     ]
    },
    {
     "name": "stdout",
     "output_type": "stream",
     "text": [
      "\n",
      " withdrewed: 8000.0 €\n",
      "your account has 4000.0 € on it\n"
     ]
    },
    {
     "name": "stdin",
     "output_type": "stream",
     "text": [
      "input yes for another operation or no to stop: yes\n",
      "do you want to depose or to remove: depose\n",
      "Enter amount to be deposited:  8000\n"
     ]
    },
    {
     "name": "stdout",
     "output_type": "stream",
     "text": [
      "Amount deposited: 8000.0 €\n",
      "your account has 12000.0 € on it\n"
     ]
    },
    {
     "name": "stdin",
     "output_type": "stream",
     "text": [
      "input yes for another operation or no to stop: NO\n"
     ]
    }
   ],
   "source": [
    "class bank_account:\n",
    "    def __init__(self,b):\n",
    "        self.balance=b\n",
    "    def deposit(self):\n",
    "        val=float(input(\"Enter amount to be deposited: \"))\n",
    "        self.balance+= val\n",
    "        print(\"Amount deposited:\",val,'€')\n",
    "        print('your account has',self.balance,'€ on it')\n",
    "        return e\n",
    "    def withdraw(self):\n",
    "        val = float(input(\"Enter amount to be withdrawn: \"))\n",
    "        if self.balance>=val:\n",
    "            self.balance-=val\n",
    "            print(\"\\n withdrewed:\", val,'€')\n",
    "            print('your account has',self.balance,'€ on it')\n",
    "        else:\n",
    "            print(\"Insufficient balance\")\n",
    "e=int(input('input the amount of money you have on your account:'))\n",
    "s = bank_account(e)\n",
    "r='yes'\n",
    "while r=='yes':\n",
    "    l=input('do you want to depose or to remove:')\n",
    "    if l =='depose':\n",
    "        s.deposit()\n",
    "    if l =='remove':\n",
    "        s.withdraw()\n",
    "    r=(input('input yes for another operation or no to stop:'))"
   ]
  },
  {
   "cell_type": "code",
   "execution_count": null,
   "id": "b22c586c-5408-4cbc-85a1-5db7d8e14fce",
   "metadata": {},
   "outputs": [],
   "source": []
  }
 ],
 "metadata": {
  "kernelspec": {
   "display_name": "Python 3",
   "language": "python",
   "name": "python3"
  },
  "language_info": {
   "codemirror_mode": {
    "name": "ipython",
    "version": 3
   },
   "file_extension": ".py",
   "mimetype": "text/x-python",
   "name": "python",
   "nbconvert_exporter": "python",
   "pygments_lexer": "ipython3",
   "version": "3.8.8"
  }
 },
 "nbformat": 4,
 "nbformat_minor": 5
}
