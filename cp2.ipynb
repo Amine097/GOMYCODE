{
 "cells": [
  {
   "cell_type": "code",
   "execution_count": null,
   "id": "e0596c3c-011b-4956-9ae7-6025b1bf5220",
   "metadata": {},
   "outputs": [],
   "source": [
    "#Question 1\n",
    "fn=input(\"first name:\",)\n",
    "ln=input(\"last name:\",)\n",
    "print(ln,fn)"
   ]
  },
  {
   "cell_type": "code",
   "execution_count": null,
   "id": "554c07b2-1402-476a-9f12-6d7f457a165a",
   "metadata": {},
   "outputs": [],
   "source": [
    "#Question 2\n",
    "n=int(input())\n",
    "n=n+n*11+n*111\n",
    "print(\"Result:\",n)"
   ]
  },
  {
   "cell_type": "code",
   "execution_count": null,
   "id": "8fd0ea4b-4bec-4295-8dcc-9d4ac68edf95",
   "metadata": {},
   "outputs": [],
   "source": [
    "#Question 3\n",
    "n=float(input())\n",
    "n=n%2\n",
    "if n>0:\n",
    "    print(\"the number is odd\")\n",
    "else: \n",
    "    print(\"the number is even\")"
   ]
  },
  {
   "cell_type": "code",
   "execution_count": null,
   "id": "ad80187e-e478-45c2-85cf-c3de387bec53",
   "metadata": {},
   "outputs": [],
   "source": [
    "#Question 4\n",
    "for x in range(2000,3201):\n",
    "    if (x%7==0) and (x%5!=0):\n",
    "        print(x) "
   ]
  },
  {
   "cell_type": "code",
   "execution_count": null,
   "id": "8c119c0a-9c5d-4ddd-9175-22b5475d8706",
   "metadata": {},
   "outputs": [],
   "source": [
    "#question 5\n",
    "n=int(input(\"Enter a number: \"))\n",
    "f=1\n",
    "if n<0:\n",
    "    print(\"no factorial\")\n",
    "elif n==0:\n",
    "    print(\"factorial=1\")\n",
    "else:\n",
    "    for i in range(1,n+1):\n",
    "        f=f*i\n",
    "print(\"the factorial of\",n,\"is\",f)"
   ]
  },
  {
   "cell_type": "code",
   "execution_count": null,
   "id": "a5d34a84-d7cc-4038-a7bd-8f3a1ef5a26c",
   "metadata": {},
   "outputs": [],
   "source": [
    "#Question 6\n",
    "result=input(\"choose a world: \")\n",
    "def odd_values_string(str):\n",
    "    result = \"\" \n",
    "    for i in range(len(str)):\n",
    "        if i % 2 == 0:\n",
    "            result = result + str[i]\n",
    "    return result\n",
    "print(odd_values_string(result))\n",
    "\n"
   ]
  },
  {
   "cell_type": "code",
   "execution_count": null,
   "id": "c4216d29-19c3-4344-a9d4-97e13bb6b0e7",
   "metadata": {},
   "outputs": [],
   "source": [
    "#question 7\n",
    "price=int(input(\"price: \"))\n",
    "if price>= 500:\n",
    "    price= price/2\n",
    "elif price in range(200,500):\n",
    "    price=price*70/100\n",
    "elif price<200:\n",
    "    price=price*90/100\n",
    "print(price)"
   ]
  },
  {
   "cell_type": "code",
   "execution_count": null,
   "id": "d09d8867-9622-4ebe-921a-9af250556268",
   "metadata": {},
   "outputs": [],
   "source": []
  }
 ],
 "metadata": {
  "kernelspec": {
   "display_name": "Python 3",
   "language": "python",
   "name": "python3"
  },
  "language_info": {
   "codemirror_mode": {
    "name": "ipython",
    "version": 3
   },
   "file_extension": ".py",
   "mimetype": "text/x-python",
   "name": "python",
   "nbconvert_exporter": "python",
   "pygments_lexer": "ipython3",
   "version": "3.8.8"
  }
 },
 "nbformat": 4,
 "nbformat_minor": 5
}
