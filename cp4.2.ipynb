{
 "cells": [
  {
   "cell_type": "markdown",
   "id": "54b4474e-fd31-4feb-b503-350a036ad4b7",
   "metadata": {},
   "source": [
    "#Question 1"
   ]
  },
  {
   "cell_type": "code",
   "execution_count": 9,
   "id": "85ab49db-01da-4f79-bc53-c0794002c5bf",
   "metadata": {},
   "outputs": [
    {
     "name": "stdin",
     "output_type": "stream",
     "text": [
      "input a number 34\n",
      "input another number 32\n",
      "input another number 21\n"
     ]
    },
    {
     "name": "stdout",
     "output_type": "stream",
     "text": [
      "34 is the biggest number\n"
     ]
    }
   ],
   "source": [
    "a=int(input('input a number: '))\n",
    "b=int(input('input another number: '))\n",
    "c=int(input('input another number: '))\n",
    "def max(a,b,c):\n",
    "    vmax=a\n",
    "    if b>vmax :\n",
    "        vmax=b\n",
    "    if c>vmax:\n",
    "        vmax=c\n",
    "    return vmax\n",
    "v=max(a,b,c)\n",
    "print(v,\"is the biggest number\")\n",
    "\n",
    "\n",
    "    "
   ]
  },
  {
   "cell_type": "markdown",
   "id": "c1d2cdeb-c0a6-4be5-9985-dfb218949ca9",
   "metadata": {},
   "source": [
    "#Question 2"
   ]
  },
  {
   "cell_type": "code",
   "execution_count": null,
   "id": "a2220a3a-2750-4a00-809a-f5c49d089d6d",
   "metadata": {},
   "outputs": [],
   "source": [
    "a=int(input('input a number: '))\n",
    "b=int(input('input another number: '))\n",
    "def calculation(a,b):\n",
    "    v= (a+b),(a-b)\n",
    "    return v \n",
    "e=calculation(a,b)\n",
    "print(e)\n",
    "    "
   ]
  },
  {
   "cell_type": "markdown",
   "id": "4497b305-6bc3-475d-b0ab-275f32746c2d",
   "metadata": {},
   "source": [
    "#Question 3"
   ]
  },
  {
   "cell_type": "code",
   "execution_count": null,
   "id": "f98804f2-436f-4c96-8ae9-d0b39f7c85be",
   "metadata": {},
   "outputs": [],
   "source": [
    "list1 = []\n",
    "n = int(input(\"Enter number of elements : \"))\n",
    "for i in range(0, n):\n",
    "    ele = int(input())\n",
    "    list1.append(ele)\n",
    "def sm(list):\n",
    "    res=0\n",
    "    for i in list:\n",
    "        res+=i\n",
    "    return res\n",
    "def pl(list):\n",
    "    res1=1\n",
    "    for i in list:\n",
    "        res1*=i\n",
    "    return res1\n",
    "list2=[]\n",
    "list3=[]\n",
    "for i in range (0,len(list1),2):\n",
    "    list2.append(list1[i])\n",
    "    x=sm(list2)\n",
    "print(\"the sum of the even numbers is\",x)\n",
    "for s in range(1,len(list1),2):\n",
    "    list3.append(list1[s])\n",
    "    c=pl(list3)\n",
    "print(\"the multiplication of the odd numbers is\",c)\n",
    "\n",
    "    "
   ]
  },
  {
   "cell_type": "markdown",
   "id": "fbd47092-8d7f-4e98-8018-81a7032fa8ee",
   "metadata": {},
   "source": [
    "#Question 4"
   ]
  },
  {
   "cell_type": "code",
   "execution_count": 8,
   "id": "ff9765b6-a0ea-4714-a2a5-64fd97ee487a",
   "metadata": {},
   "outputs": [
    {
     "name": "stdin",
     "output_type": "stream",
     "text": [
      "input a list of worlds with a hyphen between them:  green-black\n"
     ]
    },
    {
     "name": "stdout",
     "output_type": "stream",
     "text": [
      "black-green\n"
     ]
    }
   ],
   "source": [
    "\n",
    "lst=[p for p in input(\"input a list of worlds with a hyphen between them: \").split(\"-\")]\n",
    "lst.sort()\n",
    "print(\"-\".join(lst))\n"
   ]
  },
  {
   "cell_type": "markdown",
   "id": "a91f8939-0d0c-4cdb-bcd3-1cb9906fe0f8",
   "metadata": {},
   "source": [
    "#Question 5"
   ]
  },
  {
   "cell_type": "code",
   "execution_count": 11,
   "id": "74868275-881d-4e0c-a33a-52a5bd7de581",
   "metadata": {},
   "outputs": [
    {
     "name": "stdin",
     "output_type": "stream",
     "text": [
      "input three numbers with a comma between them:  100,150,180\n"
     ]
    },
    {
     "name": "stdout",
     "output_type": "stream",
     "text": [
      "the resut is [18, 22, 24]\n"
     ]
    }
   ],
   "source": [
    "import math\n",
    "D = input(\"input three numbers with a comma between them: \")\n",
    "D = D.split(',')\n",
    "list1 = []\n",
    "def mth(D):\n",
    "    for D in D:\n",
    "        lst= []\n",
    "        H = 30\n",
    "        C = 50\n",
    "        Q = round(math.sqrt(2 * C * int(D) /H ))\n",
    "        list.append(Q)\n",
    "    return list\n",
    "print(\"the resut is\",mth(list1))\n",
    "\n"
   ]
  },
  {
   "cell_type": "code",
   "execution_count": null,
   "id": "b3213db6-8b2d-464c-a5a3-aa06588f92cb",
   "metadata": {},
   "outputs": [],
   "source": []
  }
 ],
 "metadata": {
  "kernelspec": {
   "display_name": "Python 3",
   "language": "python",
   "name": "python3"
  },
  "language_info": {
   "codemirror_mode": {
    "name": "ipython",
    "version": 3
   },
   "file_extension": ".py",
   "mimetype": "text/x-python",
   "name": "python",
   "nbconvert_exporter": "python",
   "pygments_lexer": "ipython3",
   "version": "3.8.8"
  }
 },
 "nbformat": 4,
 "nbformat_minor": 5
}
