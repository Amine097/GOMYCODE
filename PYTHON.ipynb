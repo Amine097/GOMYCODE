{
 "cells": [
  {
   "cell_type": "code",
   "execution_count": 32,
   "id": "98f29304-bee3-4323-8ce7-46dbf0a97048",
   "metadata": {},
   "outputs": [
    {
     "name": "stdin",
     "output_type": "stream",
     "text": [
      "input a number: -44\n"
     ]
    },
    {
     "name": "stdout",
     "output_type": "stream",
     "text": [
      "it is False\n"
     ]
    }
   ],
   "source": [
    "r=input('input a number:')\n",
    "def is_repdigit(r):\n",
    "    if str(r) == str(r)[0] * len(str(r)):\n",
    "        return True\n",
    "    else:\n",
    "        return False\n",
    "\n",
    "print('it is',is_repdigit(r))"
   ]
  },
  {
   "cell_type": "code",
   "execution_count": 34,
   "id": "b346cea8-2fed-434f-9815-4ceeec848396",
   "metadata": {},
   "outputs": [
    {
     "name": "stdin",
     "output_type": "stream",
     "text": [
      "input your list:  \"a\", \"a\", \"b\", \"a\", \"b\", \"a\"\n"
     ]
    },
    {
     "name": "stdout",
     "output_type": "stream",
     "text": [
      "the indices of the occurrences of the items are {'\"a\"': 1, ' \"a\"': 3, ' \"b\"': 2}\n"
     ]
    }
   ],
   "source": [
    "from collections import Counter\n",
    "lst =list(input('input your list: ').split(','))\n",
    "def a(lst):\n",
    "    dct={}\n",
    "    frequence= Counter(lst)\n",
    "    for (key,value) in frequence.items():\n",
    "        dct[key]=value\n",
    "    return(dct)\n",
    "print(\"the indices of the occurrences of the items are\",a(lst))\n",
    "    "
   ]
  },
  {
   "cell_type": "code",
   "execution_count": 35,
   "id": "40786d85-3207-4820-8399-c29ab6de2ea3",
   "metadata": {},
   "outputs": [
    {
     "name": "stdin",
     "output_type": "stream",
     "text": [
      "choisir un mot:  ami,e\n"
     ]
    },
    {
     "name": "stdout",
     "output_type": "stream",
     "text": [
      "a\n",
      "am\n",
      "ami\n",
      "ami,\n",
      "ami,e\n",
      "ami,\n",
      "ami\n",
      "am\n",
      "a\n"
     ]
    }
   ],
   "source": [
    "s=input(\"choisir un mot: \")\n",
    "def construct_deconstruct(s):\n",
    "    l=[]\n",
    "    for i in range (1,len(s)+1):\n",
    "        l.append(s[0:i])\n",
    "    for j in range(1,len(s)):\n",
    "        j=len(s)-j\n",
    "        l.append(s[0:j])\n",
    "    return l\n",
    "y=construct_deconstruct(s)\n",
    "print(*y,sep='\\n')\n",
    "    "
   ]
  },
  {
   "cell_type": "code",
   "execution_count": 36,
   "id": "20b4a398-7b87-4d32-9a7c-43f2f2c7cf03",
   "metadata": {},
   "outputs": [
    {
     "name": "stdin",
     "output_type": "stream",
     "text": [
      "input a number: 1234\n"
     ]
    },
    {
     "name": "stdout",
     "output_type": "stream",
     "text": [
      "the result is 24\n"
     ]
    }
   ],
   "source": [
    "s=input('input a number:')\n",
    "e=len(s)\n",
    "def myst(s):\n",
    "    l=1\n",
    "    for i in range (0,e):\n",
    "        l= int(s[i])* l\n",
    "    return l\n",
    "print('the result is',myst(s))"
   ]
  },
  {
   "cell_type": "code",
   "execution_count": null,
   "id": "ea33eb51-f4b3-4964-9af7-4df17fad492f",
   "metadata": {},
   "outputs": [],
   "source": [
    "lst =list(map(int,input('input your list: ').split(',')))\n",
    "def f(lst):\n",
    "    lst1 = [i for i in lst if i != 0]\n",
    "    e=len(lst)-len(lst1)\n",
    "    for i in range (e):\n",
    "        lst1.append(0)\n",
    "    return lst1\n",
    "print(\"the changed list is\",f(lst))"
   ]
  },
  {
   "cell_type": "code",
   "execution_count": null,
   "id": "1e0b64ba-d375-4159-be9e-6fc305224964",
   "metadata": {},
   "outputs": [],
   "source": []
  }
 ],
 "metadata": {
  "kernelspec": {
   "display_name": "Python 3",
   "language": "python",
   "name": "python3"
  },
  "language_info": {
   "codemirror_mode": {
    "name": "ipython",
    "version": 3
   },
   "file_extension": ".py",
   "mimetype": "text/x-python",
   "name": "python",
   "nbconvert_exporter": "python",
   "pygments_lexer": "ipython3",
   "version": "3.8.8"
  }
 },
 "nbformat": 4,
 "nbformat_minor": 5
}
