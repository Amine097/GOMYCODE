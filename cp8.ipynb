{
 "cells": [
  {
   "cell_type": "code",
   "execution_count": 27,
   "id": "f1e37188-88d5-46ef-882b-3fe502b64c6d",
   "metadata": {},
   "outputs": [
    {
     "data": {
      "text/plain": [
       "['hello this is my test file\\n', 'how are u\\n', 'there are three lines']"
      ]
     },
     "execution_count": 27,
     "metadata": {},
     "output_type": "execute_result"
    }
   ],
   "source": [
    "f = open(\"test.txt\")\n",
    "f.readlines()"
   ]
  },
  {
   "cell_type": "code",
   "execution_count": 67,
   "id": "2bd06a7a-7acb-4426-8f61-fe31ea70d931",
   "metadata": {},
   "outputs": [
    {
     "name": "stdin",
     "output_type": "stream",
     "text": [
      "input the first n nulbers you want ti read: 2\n"
     ]
    },
    {
     "name": "stdout",
     "output_type": "stream",
     "text": [
      "hello this is my test file\n",
      "\n",
      "how are u\n",
      "\n"
     ]
    }
   ],
   "source": [
    "e=int(input('input the first n nulbers you want ti read:'))\n",
    "a_file = open(\"test.txt\")\n",
    "number_of_lines = e\n",
    "for i in range(number_of_lines):\n",
    "    line = a_file.readline()\n",
    "    print(line)\n"
   ]
  },
  {
   "cell_type": "code",
   "execution_count": 38,
   "id": "51c1acb2-76ef-417f-91a8-158d30cdb65c",
   "metadata": {},
   "outputs": [
    {
     "data": {
      "text/plain": [
       "'there are three lines'"
      ]
     },
     "execution_count": 38,
     "metadata": {},
     "output_type": "execute_result"
    }
   ],
   "source": [
    "def LastNlines(fname, N):\n",
    "    with open(fname) as file:\n",
    "        for line in (file.readlines() [-N:]):\n",
    "            print(line, end ='')\n",
    "N=int(input('input last n lines you want to read:'))\n",
    "LastNlines('test.txt',N)"
   ]
  },
  {
   "cell_type": "code",
   "execution_count": 70,
   "id": "6aa5526c-acd5-4922-9d7b-207802984fe4",
   "metadata": {},
   "outputs": [
    {
     "name": "stdin",
     "output_type": "stream",
     "text": [
      "input your text: hello hello\n"
     ]
    },
    {
     "name": "stdout",
     "output_type": "stream",
     "text": [
      "Number of words in text file : 2\n"
     ]
    }
   ],
   "source": [
    "a=input('input your text:')\n",
    "with open(\"ses.txt\",'w',encoding = 'utf-8') as f:\n",
    "    f.write(a)\n",
    "file = open(\"ses.txt\", \"rt\")\n",
    "data = file.read()\n",
    "words = data.split()\n",
    "print('Number of words in text file :', len(words))"
   ]
  },
  {
   "cell_type": "code",
   "execution_count": 62,
   "id": "d2e5067d-6b6b-4fb7-a12c-9ec118e17b91",
   "metadata": {},
   "outputs": [
    {
     "name": "stdin",
     "output_type": "stream",
     "text": [
      "input last n lines you want to read: 1\n"
     ]
    },
    {
     "name": "stdout",
     "output_type": "stream",
     "text": [
      "there are three lines"
     ]
    }
   ],
   "source": [
    "def LastNlines(fname, N):\n",
    "    with open(fname) as file:\n",
    "        for line in (file.readlines() [-N:]):\n",
    "            print(line, end ='')\n",
    "N=int(input('input last n lines you want to read:'))\n",
    "LastNlines('ses.txt',N)"
   ]
  },
  {
   "cell_type": "code",
   "execution_count": null,
   "id": "20d765d7-c6d4-4599-86b7-298e75c928f2",
   "metadata": {},
   "outputs": [],
   "source": []
  },
  {
   "cell_type": "code",
   "execution_count": null,
   "id": "17b25b72-589e-4124-a19a-7e94e85cfbd9",
   "metadata": {},
   "outputs": [],
   "source": []
  },
  {
   "cell_type": "code",
   "execution_count": null,
   "id": "942b1a5c-140d-4c64-a6ab-d7e55063867c",
   "metadata": {},
   "outputs": [],
   "source": []
  },
  {
   "cell_type": "code",
   "execution_count": null,
   "id": "e5fca3f2-e7e0-4ae2-b353-7953c7c9456f",
   "metadata": {},
   "outputs": [],
   "source": []
  },
  {
   "cell_type": "code",
   "execution_count": null,
   "id": "a90e389f-3989-4e15-acf1-4a22a6bb177f",
   "metadata": {},
   "outputs": [],
   "source": []
  },
  {
   "cell_type": "code",
   "execution_count": null,
   "id": "01f3eae0-6ab4-44a2-bdc2-b5c3ae08fa51",
   "metadata": {},
   "outputs": [],
   "source": []
  },
  {
   "cell_type": "code",
   "execution_count": null,
   "id": "3846df20-5c29-4742-8c81-acb1c61ff7da",
   "metadata": {},
   "outputs": [],
   "source": []
  },
  {
   "cell_type": "code",
   "execution_count": null,
   "id": "a86227d8-68bc-4cc5-b24e-1c12decaed2f",
   "metadata": {},
   "outputs": [],
   "source": []
  },
  {
   "cell_type": "code",
   "execution_count": null,
   "id": "3b40ecef-5d1b-4822-8daa-e7606ab68323",
   "metadata": {},
   "outputs": [],
   "source": []
  },
  {
   "cell_type": "code",
   "execution_count": null,
   "id": "6508857d-4fa6-4658-9686-686523befa49",
   "metadata": {},
   "outputs": [],
   "source": []
  },
  {
   "cell_type": "code",
   "execution_count": null,
   "id": "e455eb00-8fe2-4dba-8908-e051795e572f",
   "metadata": {},
   "outputs": [],
   "source": []
  },
  {
   "cell_type": "code",
   "execution_count": null,
   "id": "1145e330-78f0-42a6-8864-6ab7bd42e1f4",
   "metadata": {},
   "outputs": [],
   "source": []
  },
  {
   "cell_type": "code",
   "execution_count": null,
   "id": "18b471f9-85fb-411a-bc8e-9a2161eaf77f",
   "metadata": {},
   "outputs": [],
   "source": []
  }
 ],
 "metadata": {
  "kernelspec": {
   "display_name": "Python 3",
   "language": "python",
   "name": "python3"
  },
  "language_info": {
   "codemirror_mode": {
    "name": "ipython",
    "version": 3
   },
   "file_extension": ".py",
   "mimetype": "text/x-python",
   "name": "python",
   "nbconvert_exporter": "python",
   "pygments_lexer": "ipython3",
   "version": "3.8.8"
  }
 },
 "nbformat": 4,
 "nbformat_minor": 5
}
