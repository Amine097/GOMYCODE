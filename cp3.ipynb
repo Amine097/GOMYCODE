{
 "cells": [
  {
   "cell_type": "code",
   "execution_count": null,
   "id": "b51b7ae3-5a6e-43d6-bbb0-ecada9a30892",
   "metadata": {},
   "outputs": [],
   "source": [
    "##Question 1"
   ]
  },
  {
   "cell_type": "code",
   "execution_count": null,
   "id": "b1eeb4d0-bf39-4810-a35b-2e12c28a83b2",
   "metadata": {},
   "outputs": [],
   "source": [
    "lst = []\n",
    "x=1\n",
    "n = int(input(\"Enter number of elements : \"))\n",
    "for i in range(0, n):\n",
    "    ele = int(input())\n",
    "    lst.append(ele)\n",
    "    x=x*lst[i]\n",
    "print(x)\n"
   ]
  },
  {
   "cell_type": "code",
   "execution_count": null,
   "id": "3b614933-1a5e-4e34-b594-267aec4aa839",
   "metadata": {},
   "outputs": [],
   "source": [
    "##Question 2"
   ]
  },
  {
   "cell_type": "code",
   "execution_count": null,
   "id": "614a87ec-9c7a-4ee7-a215-5277ef3dcc43",
   "metadata": {},
   "outputs": [],
   "source": [
    "def fonction(x): \n",
    "    return x[1] \n",
    "lst = [] \n",
    "n = int(input(\"Enter number of elements : \")) \n",
    "for i in range(0, n): \n",
    "    ele = tuple(input()) \n",
    "    lst.append(ele) \n",
    "    lst.sort(key=fonction) \n",
    "print(lst)"
   ]
  },
  {
   "cell_type": "code",
   "execution_count": null,
   "id": "106f8935-db71-48f0-b692-02a3c5aa0511",
   "metadata": {},
   "outputs": [],
   "source": [
    "##Question 3 {}"
   ]
  },
  {
   "cell_type": "code",
   "execution_count": null,
   "id": "0b3d7629-cd8c-4d60-90ea-ef86327c7594",
   "metadata": {},
   "outputs": [],
   "source": [
    "d1 = {'a': 100, 'b': 200, 'c':300}\n",
    "d2 = {'a': 300, 'b': 200, 'd':400}\n",
    "d3 = dict(d1)\n",
    "d3.update(d2) \n",
    "for i, j in d1.items():\n",
    "    for x, y in d2.items():\n",
    "        if i == x:\n",
    "            d3[i]=(j+y)\n",
    "print(d3)"
   ]
  },
  {
   "cell_type": "code",
   "execution_count": null,
   "id": "6f4da537-19ca-4ecf-a119-9996c38e5b92",
   "metadata": {},
   "outputs": [],
   "source": [
    "#Question 4"
   ]
  },
  {
   "cell_type": "code",
   "execution_count": null,
   "id": "5fa59a9f-a9c9-4460-b098-529601afc870",
   "metadata": {},
   "outputs": [],
   "source": [
    "n=int(input(\"Enter a number:\"))\n",
    "d={x:x*x for x in range(1,n+1)}\n",
    "print(d)"
   ]
  },
  {
   "cell_type": "code",
   "execution_count": null,
   "id": "d4dc1267-42b9-4e20-8dac-cc1a794b400a",
   "metadata": {},
   "outputs": [],
   "source": [
    "#Question 5"
   ]
  },
  {
   "cell_type": "code",
   "execution_count": null,
   "id": "bb5cd153-e58e-4b50-8301-caf31cb14e6d",
   "metadata": {},
   "outputs": [],
   "source": [
    "lst = [('item1', '12.20'), ('item2', '15.10'), ('item3', '24.5')] \n",
    "lst.sort(reverse=True)\n",
    "print(lst)"
   ]
  }
 ],
 "metadata": {
  "kernelspec": {
   "display_name": "Python 3",
   "language": "python",
   "name": "python3"
  },
  "language_info": {
   "codemirror_mode": {
    "name": "ipython",
    "version": 3
   },
   "file_extension": ".py",
   "mimetype": "text/x-python",
   "name": "python",
   "nbconvert_exporter": "python",
   "pygments_lexer": "ipython3",
   "version": "3.8.8"
  }
 },
 "nbformat": 4,
 "nbformat_minor": 5
}
