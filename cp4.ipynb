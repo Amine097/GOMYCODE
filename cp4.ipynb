{
 "cells": [
  {
   "cell_type": "code",
   "execution_count": null,
   "id": "3ed7a72c-5bc5-4ecb-9c90-690e0d6a84f7",
   "metadata": {},
   "outputs": [],
   "source": [
    "#Question 1"
   ]
  },
  {
   "cell_type": "code",
   "execution_count": null,
   "id": "85ab49db-01da-4f79-bc53-c0794002c5bf",
   "metadata": {},
   "outputs": [],
   "source": [
    "a=int(input())\n",
    "b=int(input())\n",
    "c=int(input())\n",
    "def max(a,b,c):\n",
    "    vmax=a\n",
    "    if b>vmax :\n",
    "        vmax=b\n",
    "    if c>vmax:\n",
    "        vmax=c\n",
    "    return vmax\n",
    "v=max(a,b,c)\n",
    "print(v,\"is the biggest number\")\n",
    "\n",
    "\n",
    "    "
   ]
  },
  {
   "cell_type": "code",
   "execution_count": null,
   "id": "1765081f-b2e8-4413-9557-ff35b9fa757e",
   "metadata": {},
   "outputs": [],
   "source": [
    "#Question 2"
   ]
  },
  {
   "cell_type": "code",
   "execution_count": null,
   "id": "a2220a3a-2750-4a00-809a-f5c49d089d6d",
   "metadata": {},
   "outputs": [],
   "source": [
    "a=int(input())\n",
    "b=int(input())\n",
    "def calculation(a,b):\n",
    "    v= (a+b),(a-b)\n",
    "    return v \n",
    "e=calculation(a,b)\n",
    "print(e)\n",
    "    "
   ]
  },
  {
   "cell_type": "code",
   "execution_count": null,
   "id": "e87f1381-c555-4165-82a1-f62cf4c02531",
   "metadata": {},
   "outputs": [],
   "source": [
    "#Question 3"
   ]
  },
  {
   "cell_type": "code",
   "execution_count": null,
   "id": "f98804f2-436f-4c96-8ae9-d0b39f7c85be",
   "metadata": {},
   "outputs": [],
   "source": [
    "list1 = []\n",
    "n = int(input(\"Enter number of elements : \"))\n",
    "for i in range(0, n):\n",
    "    ele = int(input())\n",
    "    list1.append(ele)\n",
    "def sm(list):\n",
    "    res=0\n",
    "    for i in list:\n",
    "        res+=i\n",
    "    return res\n",
    "def pl(list):\n",
    "    res1=1\n",
    "    for i in list:\n",
    "        res1*=i\n",
    "    return res1\n",
    "list2=[]\n",
    "list3=[]\n",
    "for i in range (0,len(list1),2):\n",
    "    list2.append(list1[i])\n",
    "    x=sm(list2)\n",
    "print(\"the sum of the even numbers is\",x)\n",
    "for s in range(1,len(list1),2):\n",
    "    list3.append(list1[s])\n",
    "    c=pl(list3)\n",
    "print(\"the multiplication of the odd numbers is\",c)\n",
    "\n",
    "    "
   ]
  },
  {
   "cell_type": "code",
   "execution_count": null,
   "id": "f341a3bd-7665-4703-8163-c24fd61f7b7e",
   "metadata": {},
   "outputs": [],
   "source": [
    "#Question 4"
   ]
  },
  {
   "cell_type": "code",
   "execution_count": null,
   "id": "2223cb04-37ae-4047-ac83-0cd921016c2c",
   "metadata": {},
   "outputs": [],
   "source": [
    "def srt(string):\n",
    "    v=list(string)\n",
    "    v.sort\n",
    "    v1=str(v)\n",
    "def ph(string):\n",
    "    lis = list(string.split(\" \"))\n",
    "    string = '-'.join(lis)\n",
    "    return string\n",
    "txt = input(\"\")\n",
    "print(srt(txt))\n"
   ]
  },
  {
   "cell_type": "code",
   "execution_count": null,
   "id": "b7f5f9af-d11c-4788-97a3-a8f0f68d1cf3",
   "metadata": {},
   "outputs": [],
   "source": [
    "#Question 4"
   ]
  },
  {
   "cell_type": "code",
   "execution_count": null,
   "id": "ff9765b6-a0ea-4714-a2a5-64fd97ee487a",
   "metadata": {},
   "outputs": [],
   "source": [
    "\n",
    "lst=[p for p in input().split(\"-\")]\n",
    "lst.sort()\n",
    "print(\"-\".join(lst))\n"
   ]
  },
  {
   "cell_type": "code",
   "execution_count": 111,
   "id": "194ac499-0566-41d3-a9dd-42de7865c99d",
   "metadata": {},
   "outputs": [],
   "source": [
    "#Question 5"
   ]
  },
  {
   "cell_type": "code",
   "execution_count": 5,
   "id": "74868275-881d-4e0c-a33a-52a5bd7de581",
   "metadata": {},
   "outputs": [
    {
     "name": "stdin",
     "output_type": "stream",
     "text": [
      " 100,150,180\n"
     ]
    },
    {
     "name": "stdout",
     "output_type": "stream",
     "text": [
      "[18, 22, 24]\n"
     ]
    }
   ],
   "source": [
    "import math\n",
    "D = input()\n",
    "D = D.split(',')\n",
    "list1 = []\n",
    "def mth(D):\n",
    "    for D in D:\n",
    "        lst= []\n",
    "        H = 30\n",
    "        C = 50\n",
    "        Q = round(math.sqrt(2 * C * int(D) /H ))\n",
    "        list.append(Q)\n",
    "    return list\n",
    "print(mth(list1))\n",
    "\n"
   ]
  }
 ],
 "metadata": {
  "kernelspec": {
   "display_name": "Python 3",
   "language": "python",
   "name": "python3"
  },
  "language_info": {
   "codemirror_mode": {
    "name": "ipython",
    "version": 3
   },
   "file_extension": ".py",
   "mimetype": "text/x-python",
   "name": "python",
   "nbconvert_exporter": "python",
   "pygments_lexer": "ipython3",
   "version": "3.8.8"
  }
 },
 "nbformat": 4,
 "nbformat_minor": 5
}
