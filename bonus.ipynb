{
 "cells": [
  {
   "cell_type": "code",
   "execution_count": 16,
   "id": "6f8ea4cc-15a3-4595-bae4-172b568a4ffa",
   "metadata": {},
   "outputs": [
    {
     "name": "stdin",
     "output_type": "stream",
     "text": [
      " apple\n"
     ]
    },
    {
     "name": "stdout",
     "output_type": "stream",
     "text": [
      "1lpp0aca\n"
     ]
    }
   ],
   "source": [
    "s=input('input a word: ')\n",
    "rs=''.join(reversed(s)) \n",
    "dct={'a': \"0\", 'e': \"1\", 'i':\"2\",'o':\"2\",'u':\"3\"}\n",
    "for i in dct:\n",
    "    rs= rs.replace(i, dct[i])\n",
    "rs = rs + 'aca'\n",
    "print(rs)"
   ]
  },
  {
   "cell_type": "code",
   "execution_count": 30,
   "id": "35219cb5-bd8c-405f-9000-1acb6c3fd18b",
   "metadata": {},
   "outputs": [
    {
     "name": "stdin",
     "output_type": "stream",
     "text": [
      " apple\n"
     ]
    },
    {
     "name": "stdout",
     "output_type": "stream",
     "text": [
      "2\n"
     ]
    }
   ],
   "source": [
    "s= input('input a word: ')\n",
    "dct=['a', 'e', 'i','o','u']\n",
    "rs=0\n",
    "for i in s:\n",
    "    if i in dct:\n",
    "        rs+=1\n",
    "print(rs)\n",
    "    "
   ]
  },
  {
   "cell_type": "code",
   "execution_count": null,
   "id": "9bdc8801-39b9-4176-b278-ce9adc2d5a56",
   "metadata": {},
   "outputs": [],
   "source": []
  }
 ],
 "metadata": {
  "kernelspec": {
   "display_name": "Python 3",
   "language": "python",
   "name": "python3"
  },
  "language_info": {
   "codemirror_mode": {
    "name": "ipython",
    "version": 3
   },
   "file_extension": ".py",
   "mimetype": "text/x-python",
   "name": "python",
   "nbconvert_exporter": "python",
   "pygments_lexer": "ipython3",
   "version": "3.8.8"
  }
 },
 "nbformat": 4,
 "nbformat_minor": 5
}
