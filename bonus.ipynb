{
 "cells": [
  {
   "cell_type": "code",
   "execution_count": null,
   "id": "6f8ea4cc-15a3-4595-bae4-172b568a4ffa",
   "metadata": {},
   "outputs": [],
   "source": [
    "#encrypted word\n",
    "s=input('input a word:')\n",
    "rs=''.join(reversed(s)) \n",
    "dct={'a': \"0\", 'e': \"1\", 'i':\"2\",'o':\"2\",'u':\"3\"}\n",
    "for i in dct:\n",
    "    rs= rs.replace(i, dct[i])\n",
    "rs = rs + 'aca'\n",
    "print('the encrypted world is:',rs)"
   ]
  },
  {
   "cell_type": "code",
   "execution_count": null,
   "id": "35219cb5-bd8c-405f-9000-1acb6c3fd18b",
   "metadata": {},
   "outputs": [],
   "source": [
    "#how many vowels\n",
    "s= input('input a word:')\n",
    "dct=['a', 'e', 'i','o','u']\n",
    "rs=0\n",
    "for i in s:\n",
    "    if i in dct:\n",
    "        rs+=1\n",
    "if rs==1:\n",
    "    print('there is',rs,'vowel')\n",
    "else:\n",
    "    print('there are',rs,'vowel')\n",
    "    \n",
    "    "
   ]
  },
  {
   "cell_type": "code",
   "execution_count": null,
   "id": "9bdc8801-39b9-4176-b278-ce9adc2d5a56",
   "metadata": {},
   "outputs": [],
   "source": [
    "#tuples first try\n",
    "lst = []\n",
    "n = int(input(\"Enter number of tuples : \"))\n",
    "for i in range(0, n):\n",
    "    lst1=[]\n",
    "    s=int(input(\"Enter number of elements : \"))\n",
    "    for d in range(0,s):\n",
    "        d=input(\"Enter the number: \")\n",
    "        lst1.append(d)\n",
    "        ele = tuple (lst1)\n",
    "    lst.append(ele) \n",
    "print(lst)"
   ]
  },
  {
   "cell_type": "code",
   "execution_count": null,
   "id": "2957ee04-a279-4b0b-a123-78d2e77a5993",
   "metadata": {},
   "outputs": [],
   "source": [
    "#second try\n",
    "lst = []\n",
    "n = int(input(\"Enter number of tuples : \"))\n",
    "for i in range(0, n):\n",
    "    ele =tuple(map(int,input('input your tuple: ').split(',')))\n",
    "    lst.append(ele)\n",
    "print(lst)"
   ]
  },
  {
   "cell_type": "code",
   "execution_count": null,
   "id": "873ebbda-5adf-454d-b005-4d1043bbcca1",
   "metadata": {},
   "outputs": [],
   "source": [
    "#final try\n",
    "lst=[]\n",
    "ele=0\n",
    "f=''\n",
    "while f != \"no\":\n",
    "    ele = tuple(map(int,input(\"input your tuple: \").split(',')))\n",
    "    f=input('input yes for another tuple or no to stop: ')\n",
    "    lst.append(ele) \n",
    "print(lst)"
   ]
  }
 ],
 "metadata": {
  "kernelspec": {
   "display_name": "Python 3",
   "language": "python",
   "name": "python3"
  },
  "language_info": {
   "codemirror_mode": {
    "name": "ipython",
    "version": 3
   },
   "file_extension": ".py",
   "mimetype": "text/x-python",
   "name": "python",
   "nbconvert_exporter": "python",
   "pygments_lexer": "ipython3",
   "version": "3.8.8"
  }
 },
 "nbformat": 4,
 "nbformat_minor": 5
}
